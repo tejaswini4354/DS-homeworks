{
 "cells": [
  {
   "cell_type": "markdown",
   "metadata": {},
   "source": [
    "# Worksheet 05\n",
    "\n",
    "Name:  Sai Tejaswini Junnuri\n",
    "UID: U92492167\n",
    "\n",
    "### Topics\n",
    "\n",
    "- Cost Functions\n",
    "- Kmeans\n",
    "\n",
    "### Cost Function\n",
    "\n",
    "Solving Data Science problems often starts by defining a metric with which to evaluate solutions were you able to find some. This metric is called a cost function. Data Science then backtracks and tries to find a process / algorithm to find solutions that can optimize for that cost function.\n",
    "\n",
    "For example suppose you are asked to cluster three points A, B, C into two non-empty clusters. If someone gave you the solution `{A, B}, {C}`, how would you evaluate that this is a good solution?\n",
    "\n",
    "Notice that because the clusters need to be non-empty and all points must be assigned to a cluster, it must be that two of the three points will be together in one cluster and the third will be alone in the other cluster.\n",
    "\n",
    "In the above solution, if A and B are closer than A and C, and B and C, then this is a good solution. The smaller the distance between the two points in the same cluster (here A and B), the better the solution. So we can define our cost function to be that distance (between A and B here)!\n",
    "\n",
    "The algorithm / process would involve clustering together the two closest points and put the third in its own cluster. This process optimizes for that cost function because no other pair of points could have a lower distance (although it could equal it)."
   ]
  },
  {
   "cell_type": "markdown",
   "metadata": {},
   "source": [
    "### K means\n",
    "\n",
    "a) (1-dimensional clustering) Walk through Lloyd's algorithm step by step on the following dataset:\n",
    "\n",
    "`[0, .5, 1.5, 2, 6, 6.5, 7]` (note: each of these are 1-dimensional data points)\n",
    "\n",
    "Given the initial centroids:\n",
    "\n",
    "`[0, 2]`"
   ]
  },
  {
   "cell_type": "markdown",
   "metadata": {},
   "source": [
    "1. Assign the points to the initial centroids.\n",
    "    Let 0 be centroid for Cluster 1 and 2 for Cluster 2\n",
    "    The clusters assigned are [1,1,2,2,2,2,2]\n",
    "Continue till the centroids converge\n",
    "2. Calculate the new centroids for each cluster\n",
    "    For Cluster 1 , the data points are [0, 0.5] - the new centroid is 0.25\n",
    "    For Cluster 2 , the data points are [1.5, 2, 6, 6.5, 7] - the new centroid is 4.6\n",
    "3. Assign the points to the new centroids\n",
    "    The clusters assigned are [1,1,1,1,2,2,2]\n",
    "2. For Cluster 1 , the data points are [0, 0.5, 1.5, 2] - the new centroid is 1\n",
    "   For Cluster 2 , the data points are [6, 6.5, 7] - the new centroid is 6.5\n",
    "3. Assign the points to the new centroids\n",
    "    The clusters assigned are [1,1,1,1,2,2,2] which are the same as before\n",
    "    \n",
    "Hence, the final clusters and respective points are Cluster 1 - [0, 0.5, 1.5, 2] and Cluster 2 - [6, 6.5, 7]"
   ]
  },
  {
   "cell_type": "markdown",
   "metadata": {},
   "source": [
    "b) Describe in plain english what the cost function for k means is."
   ]
  },
  {
   "cell_type": "markdown",
   "metadata": {},
   "source": [
    "It is the sum of eucledian distance between the centroid of each cluster to all the points in that cluster for all the clusters"
   ]
  },
  {
   "cell_type": "markdown",
   "metadata": {},
   "source": [
    "c) For the same number of clusters K, why could there be very different solutions to the K means algorithm on a given dataset?"
   ]
  },
  {
   "cell_type": "markdown",
   "metadata": {},
   "source": [
    "K-means starts with an initial set of cluster centroids. Depending on how these initial centroids are chosen, the algorithm can converge to different local optima"
   ]
  },
  {
   "cell_type": "markdown",
   "metadata": {},
   "source": [
    "d) Does Lloyd's Algorithm always converge? Why / why not?"
   ]
  },
  {
   "cell_type": "markdown",
   "metadata": {},
   "source": [
    "Lloyd's algorithm will always converge as it is greedy and will keep reducing the cost function till local optima is reached"
   ]
  },
  {
   "cell_type": "markdown",
   "metadata": {},
   "source": [
    "e) Follow along in class the implementation of Kmeans"
   ]
  },
  {
   "cell_type": "code",
   "execution_count": 18,
   "metadata": {},
   "outputs": [],
   "source": [
    "import numpy as np\n",
    "from PIL import Image as im\n",
    "import matplotlib.pyplot as plt\n",
    "import sklearn.datasets as datasets\n",
    "\n",
    "centers = [[0, 0], [2, 2], [-3, 2], [2, -4]]\n",
    "X, _ = datasets.make_blobs(n_samples=300, centers=centers, cluster_std=1, random_state=0)\n",
    "\n",
    "class KMeans():\n",
    "\n",
    "    def __init__(self, data, k):\n",
    "        self.data = data\n",
    "        self.k = k\n",
    "        self.assignment = [-1 for _ in range(len(data))]\n",
    "        self.snaps = []\n",
    "    \n",
    "    def snap(self, centers):\n",
    "        TEMPFILE = \"temp.png\"\n",
    "\n",
    "        fig, ax = plt.subplots()\n",
    "        ax.scatter(X[:, 0], X[:, 1], c=self.assignment)\n",
    "        ax.scatter(centers[:,0], centers[:, 1], c='r')\n",
    "        fig.savefig(TEMPFILE)\n",
    "        plt.close()\n",
    "        self.snaps.append(im.fromarray(np.asarray(im.open(TEMPFILE))))\n",
    "    \n",
    "    def initialize(self):\n",
    "        return self.data[np.random.choice(range(len(self.data)), self.k, replace = False)]\n",
    "    \n",
    "    def distance(self,a,b):\n",
    "        return ((a[0]-b[0])**2+(a[1]-b[1])**2)**(0.5)\n",
    "    \n",
    "    def get_centers(self):\n",
    "        centers = []\n",
    "        for i in set(self.assignment):\n",
    "            \n",
    "            cluster = []\n",
    "            for j in range(len(self.data)):\n",
    "                if self.assignment[j] ==i:\n",
    "                    cluster.append(self.data[j])\n",
    "            x = 0\n",
    "            y = 0\n",
    "            for delta in range(len(cluster)):\n",
    "                x+=cluster[delta][0]\n",
    "                y+=cluster[delta][1]\n",
    "            centers.append([x/len(cluster), y/len(cluster)])\n",
    "        \n",
    "        return np.array(centers)\n",
    "        \n",
    "        \n",
    "    def assign(self, centers):\n",
    "        for i in range(len(self.data)):\n",
    "            closest_center = 0\n",
    "            closest_distance = self.distance(self.data[i], centers[closest_center])\n",
    "            for j in range(1,len(centers)):\n",
    "                if self.distance(self.data[i],centers[j]) < closest_distance:\n",
    "                    closest_center = j\n",
    "                    closest_distance = self.distance(self.data[i],centers[j])\n",
    "            self.assignment[i] = closest_center\n",
    "\n",
    "    def lloyds(self):\n",
    "        centers = self.initialize()\n",
    "        self.assign(centers)\n",
    "        self.snap(centers)\n",
    "        new_centers = centers[::-1]\n",
    "        flag = 0\n",
    "        while np.array_equiv(centers,new_centers) != True:\n",
    "            if flag==1:\n",
    "                centers = new_centers\n",
    "            new_centers = self.get_centers()\n",
    "            self.assign(new_centers)\n",
    "            self.snap(new_centers)\n",
    "            flag = 1\n",
    "        \n",
    "        return\n",
    "            \n",
    "\n",
    "kmeans = KMeans(X, 6)\n",
    "kmeans.lloyds()\n",
    "images = kmeans.snaps\n",
    "\n",
    "images[0].save(\n",
    "    'kmeans.gif',\n",
    "    optimize=False,\n",
    "    save_all=True,\n",
    "    append_images=images[1:],\n",
    "    loop=0,\n",
    "    duration=500\n",
    ")"
   ]
  }
 ],
 "metadata": {
  "kernelspec": {
   "display_name": "Python 3 (ipykernel)",
   "language": "python",
   "name": "python3"
  },
  "language_info": {
   "codemirror_mode": {
    "name": "ipython",
    "version": 3
   },
   "file_extension": ".py",
   "mimetype": "text/x-python",
   "name": "python",
   "nbconvert_exporter": "python",
   "pygments_lexer": "ipython3",
   "version": "3.9.7"
  },
  "vscode": {
   "interpreter": {
    "hash": "76ca05dc3ea24b2e3b98cdb7774adfbb40773424bf5109b477fd793f623715af"
   }
  }
 },
 "nbformat": 4,
 "nbformat_minor": 2
}
