{
 "cells": [
  {
   "cell_type": "markdown",
   "metadata": {},
   "source": [
    "# Worksheet 08\n",
    "\n",
    "Name: Sai Tejaswini Junnuri\n",
    "UID: U92492167\n",
    "\n",
    "### Topics\n",
    "\n",
    "- Soft Clustering\n",
    "- Clustering Aggregation\n",
    "\n",
    "### Probability Review\n",
    "\n",
    "Read through [the following](https://medium.com/@gallettilance/overview-of-probability-3272b72c82c8)\n",
    "\n",
    "### Soft Clustering\n",
    "\n",
    "We generate 10 data points that come from a normal distribution with mean 5 and variance 1."
   ]
  },
  {
   "cell_type": "code",
   "execution_count": 1,
   "metadata": {},
   "outputs": [
    {
     "name": "stdout",
     "output_type": "stream",
     "text": [
      "[5.631656907965602, 6.455471531256049, 5.897545258596165, 5.851841932657325, 6.702688469530699, 5.033000126185015, 5.253077610293628, 5.687990755551044, 5.315741231427446, 4.629531287319039]\n"
     ]
    }
   ],
   "source": [
    "import random\n",
    "import numpy as np\n",
    "from sklearn.cluster import KMeans\n",
    "\n",
    "mean = 5\n",
    "stdev = 1\n",
    "\n",
    "c1 = np.random.normal(mean, stdev, 10).tolist()\n",
    "print(c1)"
   ]
  },
  {
   "cell_type": "markdown",
   "metadata": {},
   "source": [
    "a) Generate 10 more data points, this time coming from a normal distribution with mean 8 and variance 1."
   ]
  },
  {
   "cell_type": "code",
   "execution_count": 2,
   "metadata": {},
   "outputs": [
    {
     "name": "stdout",
     "output_type": "stream",
     "text": [
      "[8.433503074928081, 7.231005996233987, 6.549512966330348, 8.737042281231167, 9.251752946458497, 6.882474269560587, 9.307517514871488, 6.422682409750532, 9.389202143213673, 8.318129271822214]\n"
     ]
    }
   ],
   "source": [
    "c2 = np.random.normal(8 , 1 , 10).tolist()\n",
    "print(c2)"
   ]
  },
  {
   "cell_type": "markdown",
   "metadata": {},
   "source": [
    "b) Flip a fair coin 10 times. If the coin lands on H, then pick the last data point of `c1` and remove it from `c1`, if T then pick the last data point from `c2` and remove it from `c2`. Add these 10 points to a list called `data`."
   ]
  },
  {
   "cell_type": "code",
   "execution_count": 3,
   "metadata": {},
   "outputs": [
    {
     "name": "stdout",
     "output_type": "stream",
     "text": [
      "[8.318129271822214, 4.629531287319039, 9.389202143213673, 5.315741231427446, 6.422682409750532, 9.307517514871488, 6.882474269560587, 5.687990755551044, 5.253077610293628, 5.033000126185015]\n"
     ]
    }
   ],
   "source": [
    "data = []\n",
    "for i in range(10):\n",
    "    # flip coin\n",
    "    coin_output = random.choice([0, 1])\n",
    "    if coin_output == 0:\n",
    "        p1 = c1.pop()\n",
    "        data.append(p1)\n",
    "    else:\n",
    "        p2 = c2.pop()\n",
    "        data.append(p2)\n",
    "print(data)"
   ]
  },
  {
   "cell_type": "markdown",
   "metadata": {},
   "source": [
    "c) This `data` is a Gaussian Mixture Distribution with 2 mixture components. Over the next few questions we will walk through the GMM algorithm to see if we can uncover the parameters we used to generate this data. First, please list all these parameters of the GMM that created `data` and the values we know they have."
   ]
  },
  {
   "cell_type": "markdown",
   "metadata": {},
   "source": [
    "1. Number of components(k) : 2\n",
    "2. Weights (assuming a fair coin) : P(S_1) = P(S_2) = 0.5\n",
    "3. Mean and St.dev of both distributions"
   ]
  },
  {
   "cell_type": "markdown",
   "metadata": {},
   "source": [
    "d) Let's assume there are two mixture components (note: we could plot the data and make the observation that there are two clusters). The EM algorithm asks us to start with a random `mean_j`, `variance_j`, `P(S_j)` for each component j. One method we could use to find sensible values for these is to apply K means with k=2 here.\n",
    "\n",
    "1. the centroids would be the estimates of the `mean_j`\n",
    "2. the intra-cluster variance could be the estimate of `variance_j`\n",
    "3. the proportion of points in each cluster could be the estimate of `P(S_j)`\n",
    "\n",
    "Go through this process and list the parameter estimates it gives. Are they close or far from the true values?"
   ]
  },
  {
   "cell_type": "code",
   "execution_count": 6,
   "metadata": {},
   "outputs": [
    {
     "name": "stdout",
     "output_type": "stream",
     "text": [
      "[4.629531287319039, 5.315741231427446, 6.422682409750532, 6.882474269560587, 5.687990755551044, 5.253077610293628, 5.033000126185015]\n",
      "[8.318129271822214, 9.389202143213673, 9.307517514871488]\n",
      "P(C_1) = 0.7,  P(C_2) = 0.3\n",
      "mean_1 = 5.60349967001247,  mean_2 = 9.004949643302458\n",
      "var_1 = 0.5419514014025416,  var_2 = 0.7109195232740926\n"
     ]
    }
   ],
   "source": [
    "kmeans = KMeans(2, init='k-means++').fit(X=np.array(data).reshape(-1, 1))\n",
    "\n",
    "c1 = [x[0] for x in filter(lambda x: x[1] == 1, zip(data, kmeans.labels_))]\n",
    "print(c1)\n",
    "c2 = [x[0] for x in filter(lambda x: x[1] == 0, zip(data, kmeans.labels_))]\n",
    "print(c2)\n",
    "\n",
    "prob_c = [ len(c1) / (len(c1) + len(c2)) , len(c2) / (len(c1) + len(c2))]\n",
    "mean = [ sum(c1)/len(c1) , sum(c2)/len(c2) ]\n",
    "var = [ sum(map(lambda x : (x - mean[0])**2, c1)) / len(c1) , sum(map(lambda x: (x-mean[1])**2, c2))]\n",
    "\n",
    "print(\"P(C_1) = \" + str(prob_c[0]) + \",  P(C_2) = \" + str(prob_c[1]))\n",
    "print(\"mean_1 = \" + str(mean[0]) + \",  mean_2 = \" + str(mean[1]))\n",
    "print(\"var_1 = \" + str(var[0]) + \",  var_2 = \" + str(var[1]))"
   ]
  },
  {
   "cell_type": "markdown",
   "metadata": {},
   "source": [
    "1. For the 1st distribution, mean_true = 5, var_true = 1, whereas here we got mean = 5.6 and variance = 0.54\n",
    "2. For the 2nd distribution, mean_true = 8, var_true = 1, whereas here we got mean = 9.0 and variance = 0.71\n",
    "3. The means are close whereas the variance for both the distributions have decreased\n",
    "4. The proportion of points in each cluster is skewed and not 0.5"
   ]
  },
  {
   "cell_type": "markdown",
   "metadata": {},
   "source": [
    "e) For each data point, compute `P(S_j | X_i)`. Comment on which cluster you think each point belongs to based on the estimated probabilities. How does that compare to the truth?"
   ]
  },
  {
   "cell_type": "code",
   "execution_count": 7,
   "metadata": {},
   "outputs": [
    {
     "name": "stdout",
     "output_type": "stream",
     "text": [
      "point =  8.318129271822214\n",
      "probability of observing that point if it came from cluster 0 =  2.6225742845876524e-06\n",
      "probability of observing that point if it came from cluster 1 =  0.3518963944267924\n",
      "point =  4.629531287319039\n",
      "probability of observing that point if it came from cluster 0 =  0.14642600757709423\n",
      "probability of observing that point if it came from cluster 1 =  3.340207282058079e-09\n",
      "point =  9.389202143213673\n",
      "probability of observing that point if it came from cluster 0 =  1.8677750149414042e-11\n",
      "probability of observing that point if it came from cluster 1 =  0.4848998070242501\n",
      "point =  5.315741231427446\n",
      "probability of observing that point if it came from cluster 0 =  0.6393375670792141\n",
      "probability of observing that point if it came from cluster 1 =  7.970041562851237e-07\n",
      "point =  6.422682409750532\n",
      "probability of observing that point if it came from cluster 0 =  0.23486593729177488\n",
      "probability of observing that point if it came from cluster 1 =  0.0007658572587783837\n",
      "point =  9.307517514871488\n",
      "probability of observing that point if it came from cluster 0 =  5.292222299195282e-11\n",
      "probability of observing that point if it came from cluster 1 =  0.5125738492170886\n",
      "point =  6.882474269560587\n",
      "probability of observing that point if it came from cluster 0 =  0.045455299391889935\n",
      "probability of observing that point if it came from cluster 1 =  0.0065097568232866726\n",
      "point =  5.687990755551044\n",
      "probability of observing that point if it came from cluster 0 =  0.7272301770996701\n",
      "probability of observing that point if it came from cluster 1 =  1.051967820305349e-05\n",
      "point =  5.253077610293628\n",
      "probability of observing that point if it came from cluster 0 =  0.597261085346422\n",
      "probability of observing that point if it came from cluster 1 =  5.024835561687772e-07\n",
      "point =  5.033000126185015\n",
      "probability of observing that point if it came from cluster 0 =  0.422982881617036\n",
      "probability of observing that point if it came from cluster 1 =  9.349497295863432e-08\n",
      "8.318129271822214\n",
      "Probability of coming from C_1 = 1.7389304588561572e-05\n",
      "Probability of coming from C_2 = 0.9999826106954115\n",
      "\n",
      "4.629531287319039\n",
      "Probability of coming from C_1 = 0.9999999902236125\n",
      "Probability of coming from C_2 = 9.776387516729551e-09\n",
      "\n",
      "9.389202143213673\n",
      "Probability of coming from C_1 = 8.98771589100734e-11\n",
      "Probability of coming from C_2 = 0.9999999999101228\n",
      "\n",
      "5.315741231427446\n",
      "Probability of coming from C_1 = 0.9999994657391572\n",
      "Probability of coming from C_2 = 5.342608426840177e-07\n",
      "\n",
      "6.422682409750532\n",
      "Probability of coming from C_1 = 0.9986044528617511\n",
      "Probability of coming from C_2 = 0.0013955471382488943\n",
      "\n",
      "9.307517514871488\n",
      "Probability of coming from C_1 = 2.4091199178437786e-10\n",
      "Probability of coming from C_2 = 0.9999999997590879\n",
      "\n",
      "6.882474269560587\n",
      "Probability of coming from C_1 = 0.9421725672082544\n",
      "Probability of coming from C_2 = 0.057827432791745716\n",
      "\n",
      "5.687990755551044\n",
      "Probability of coming from C_1 = 0.9999938005796406\n",
      "Probability of coming from C_2 = 6.199420359452342e-06\n",
      "\n",
      "5.253077610293628\n",
      "Probability of coming from C_1 = 0.9999996394373865\n",
      "Probability of coming from C_2 = 3.605626134654402e-07\n",
      "\n",
      "5.033000126185015\n",
      "Probability of coming from C_1 = 0.999999905269759\n",
      "Probability of coming from C_2 = 9.47302410352277e-08\n",
      "\n"
     ]
    }
   ],
   "source": [
    "from scipy.stats import norm\n",
    "\n",
    "prob_c0_x = [] # P(C_0 | X_i)\n",
    "prob_c1_x = [] # P(C_1 | X_i)\n",
    "prob_x = [] # P(X_i)\n",
    "\n",
    "k = 2\n",
    "\n",
    "for p in data:\n",
    "    print(\"point = \", p)\n",
    "    pdf_i = []\n",
    "\n",
    "    for j in range(k):\n",
    "        # P(X_i | C_j)\n",
    "        pdf_i.append(norm.pdf(p, mean[j], var[j]))\n",
    "        print(\"probability of observing that point if it came from cluster \" + str(j) + \" = \", pdf_i[j])\n",
    "        # P(C_j) already computed\n",
    "        prob_c[j]\n",
    "\n",
    "    # P(X_i) = P(C_0)P(X_i | C_0) + P(C_1)P(X_i | C_1)\n",
    "    prob_x = prob_c[0] * pdf_i[0] + prob_c[1] * pdf_i[1]\n",
    "\n",
    "    # P(C_j | X_i) = P(X_i | C_j)P(C_j) / P(X_i)\n",
    "    c0_x = (pdf_i[0] * prob_c[0]) / prob_x\n",
    "    c1_x = (pdf_i[1] * prob_c[1]) / prob_x\n",
    "    prob_c0_x.append(c0_x)\n",
    "    prob_c1_x.append(c1_x)\n",
    "\n",
    "probs = zip(data, prob_c0_x, prob_c1_x)\n",
    "for p in probs:\n",
    "    print(p[0])\n",
    "    print(\"Probability of coming from C_1 = \" + str(p[1]))\n",
    "    print(\"Probability of coming from C_2 = \" + str(p[2]))\n",
    "    print()\n"
   ]
  },
  {
   "cell_type": "markdown",
   "metadata": {},
   "source": [
    "f) Having computed `P(S_j | X_i)`, update the estimates of `mean_j`, `var_j`, and `P(S_j)`. How different are these values from the original ones you got from K means? briefly comment."
   ]
  },
  {
   "cell_type": "code",
   "execution_count": 9,
   "metadata": {},
   "outputs": [
    {
     "name": "stdout",
     "output_type": "stream",
     "text": [
      "P(C_1) = 0.694078721095494,  P(C_2) = 0.30592127890450604\n",
      "mean_1 = 5.592685911149935,  mean_2 = 8.963647076526854\n",
      "var_1 = 0.5327129059852579,  var_2 = 0.3189014497440749\n"
     ]
    }
   ],
   "source": [
    "prob_c = [sum(prob_c0_x)/ len(prob_c0_x), sum(prob_c1_x)/len(prob_c1_x)]\n",
    "mean = [sum([x[0] * x[1] for x in zip(prob_c0_x, data)]) / sum(prob_c0_x), sum([x[0] * x[1] for x in zip(prob_c1_x, data)]) / sum(prob_c1_x)]\n",
    "var = [sum([(x[0] * (x[1] - mean[0])**2) for x in zip(prob_c0_x, data)]) / sum(prob_c0_x) , sum([(x[0] * (x[1] - mean[1])**2) for x in zip(prob_c1_x, data)]) / sum(prob_c1_x)]\n",
    "\n",
    "print(\"P(C_1) = \" + str(prob_c[0]) + \",  P(C_2) = \" + str(prob_c[1]))\n",
    "print(\"mean_1 = \" + str(mean[0]) + \",  mean_2 = \" + str(mean[1]))\n",
    "print(\"var_1 = \" + str(var[0]) + \",  var_2 = \" + str(var[1]))"
   ]
  },
  {
   "cell_type": "markdown",
   "metadata": {},
   "source": [
    "Old values: \n",
    "\n",
    "P(C_1) = 0.7,  P(C_2) = 0.3\n",
    "mean_1 = 5.60349967001247,  mean_2 = 9.004949643302458\n",
    "var_1 = 0.5419514014025416,  var_2 = 0.7109195232740926\n",
    "\n",
    "New values: \n",
    "\n",
    "P(C_1) = 0.694078721095494,  P(C_2) = 0.30592127890450604\n",
    "mean_1 = 5.592685911149935,  mean_2 = 8.963647076526854\n",
    "var_1 = 0.5327129059852579,  var_2 = 0.3189014497440749\n",
    "\n",
    "We see that the variances of the second distribution has reduced"
   ]
  },
  {
   "cell_type": "markdown",
   "metadata": {},
   "source": [
    "g) Update `P(S_j | X_i)`. Comment on any differences or lack thereof you observe."
   ]
  },
  {
   "cell_type": "code",
   "execution_count": 10,
   "metadata": {},
   "outputs": [
    {
     "name": "stdout",
     "output_type": "stream",
     "text": [
      "point =  8.318129271822214\n",
      "probability of observing that point if it came from cluster 0 =  1.550858514868254e-06\n",
      "probability of observing that point if it came from cluster 1 =  0.16125920121014156\n",
      "point =  4.629531287319039\n",
      "probability of observing that point if it came from cluster 0 =  0.14607562933922355\n",
      "probability of observing that point if it came from cluster 1 =  9.73209066829592e-41\n",
      "point =  9.389202143213673\n",
      "probability of observing that point if it came from cluster 0 =  7.004213138190253e-12\n",
      "probability of observing that point if it came from cluster 1 =  0.5135379563854235\n",
      "point =  5.315741231427446\n",
      "probability of observing that point if it came from cluster 0 =  0.6542266372357117\n",
      "probability of observing that point if it came from cluster 1 =  4.82505913254134e-29\n",
      "point =  6.422682409750532\n",
      "probability of observing that point if it came from cluster 0 =  0.22247622757477512\n",
      "probability of observing that point if it came from cluster 1 =  2.0475939888176903e-14\n",
      "point =  9.307517514871488\n",
      "probability of observing that point if it came from cluster 0 =  2.0646625281934357e-11\n",
      "probability of observing that point if it came from cluster 1 =  0.6994734402553453\n",
      "point =  6.882474269560587\n",
      "probability of observing that point if it came from cluster 0 =  0.0399471756516933\n",
      "probability of observing that point if it came from cluster 1 =  7.063908085749369e-10\n",
      "point =  5.687990755551044\n",
      "probability of observing that point if it came from cluster 0 =  0.7369985591759266\n",
      "probability of observing that point if it came from cluster 1 =  1.536643522206624e-23\n",
      "point =  5.253077610293628\n",
      "probability of observing that point if it came from cluster 0 =  0.6111739911879175\n",
      "probability of observing that point if it came from cluster 1 =  4.999620614681927e-30\n",
      "point =  5.033000126185015\n",
      "probability of observing that point if it came from cluster 0 =  0.4312441837097225\n",
      "probability of observing that point if it came from cluster 1 =  1.2830229023191546e-33\n",
      "8.318129271822214\n",
      "Probability of coming from C_1 = 2.1819120589504964e-05\n",
      "Probability of coming from C_2 = 0.9999781808794106\n",
      "\n",
      "4.629531287319039\n",
      "Probability of coming from C_1 = 1.0\n",
      "Probability of coming from C_2 = 2.936495477685968e-40\n",
      "\n",
      "9.389202143213673\n",
      "Probability of coming from C_1 = 3.0944669498935525e-11\n",
      "Probability of coming from C_2 = 0.9999999999690553\n",
      "\n",
      "5.315741231427446\n",
      "Probability of coming from C_1 = 1.0\n",
      "Probability of coming from C_2 = 3.2506886393644986e-29\n",
      "\n",
      "6.422682409750532\n",
      "Probability of coming from C_1 = 0.9999999999999594\n",
      "Probability of coming from C_2 = 4.0565906954045056e-14\n",
      "\n",
      "9.307517514871488\n",
      "Probability of coming from C_1 = 6.696947451149421e-11\n",
      "Probability of coming from C_2 = 0.9999999999330306\n",
      "\n",
      "6.882474269560587\n",
      "Probability of coming from C_1 = 0.9999999922060088\n",
      "Probability of coming from C_2 = 7.793991235988993e-09\n",
      "\n",
      "5.687990755551044\n",
      "Probability of coming from C_1 = 1.0\n",
      "Probability of coming from C_2 = 9.189829347778533e-24\n",
      "\n",
      "5.253077610293628\n",
      "Probability of coming from C_1 = 1.0\n",
      "Probability of coming from C_2 = 3.605563443525142e-30\n",
      "\n",
      "5.033000126185015\n",
      "Probability of coming from C_1 = 1.0\n",
      "Probability of coming from C_2 = 1.3113303538283968e-33\n",
      "\n"
     ]
    }
   ],
   "source": [
    "from scipy.stats import norm\n",
    "\n",
    "prob_c0_x = [] # P(C_0 | X_i)\n",
    "prob_c1_x = [] # P(C_1 | X_i)\n",
    "prob_x = [] # P(X_i)\n",
    "\n",
    "k = 2\n",
    "\n",
    "for p in data:\n",
    "    print(\"point = \", p)\n",
    "    pdf_i = []\n",
    "\n",
    "    for j in range(k):\n",
    "        # P(X_i | C_j)\n",
    "        pdf_i.append(norm.pdf(p, mean[j], var[j]))\n",
    "        print(\"probability of observing that point if it came from cluster \" + str(j) + \" = \", pdf_i[j])\n",
    "        # P(C_j) already computed\n",
    "        prob_c[j]\n",
    "\n",
    "    # P(X_i) = P(C_0)P(X_i | C_0) + P(C_1)P(X_i | C_1)\n",
    "    prob_x = prob_c[0] * pdf_i[0] + prob_c[1] * pdf_i[1]\n",
    "\n",
    "    # P(C_j | X_i) = P(X_i | C_j)P(C_j) / P(X_i)\n",
    "    c0_x = (pdf_i[0] * prob_c[0]) / prob_x\n",
    "    c1_x = (pdf_i[1] * prob_c[1]) / prob_x\n",
    "    prob_c0_x.append(c0_x)\n",
    "    prob_c1_x.append(c1_x)\n",
    "\n",
    "probs = zip(data, prob_c0_x, prob_c1_x)\n",
    "for p in probs:\n",
    "    print(p[0])\n",
    "    print(\"Probability of coming from C_1 = \" + str(p[1]))\n",
    "    print(\"Probability of coming from C_2 = \" + str(p[2]))\n",
    "    print()"
   ]
  },
  {
   "cell_type": "markdown",
   "metadata": {},
   "source": [
    "The probabilities are coverging towards on dist more than the other here"
   ]
  },
  {
   "cell_type": "markdown",
   "metadata": {},
   "source": [
    "h) Use `P(S_j | X_i)` to create a hard assignment - label each point as belonging to a specific cluster (0 or 1)"
   ]
  },
  {
   "cell_type": "code",
   "execution_count": 11,
   "metadata": {},
   "outputs": [
    {
     "name": "stdout",
     "output_type": "stream",
     "text": [
      "[8.318129271822214, 4.629531287319039, 9.389202143213673, 5.315741231427446, 6.422682409750532, 9.307517514871488, 6.882474269560587, 5.687990755551044, 5.253077610293628, 5.033000126185015] [1, 0, 1, 0, 0, 1, 0, 0, 0, 0]\n"
     ]
    }
   ],
   "source": [
    "hard_assignments = [0 if prob_c0_x[i] > prob_c1_x[i] else 1 for i in range(len(data))]\n",
    "print(data, hard_assignments)"
   ]
  }
 ],
 "metadata": {
  "kernelspec": {
   "display_name": "Python 3 (ipykernel)",
   "language": "python",
   "name": "python3"
  },
  "language_info": {
   "codemirror_mode": {
    "name": "ipython",
    "version": 3
   },
   "file_extension": ".py",
   "mimetype": "text/x-python",
   "name": "python",
   "nbconvert_exporter": "python",
   "pygments_lexer": "ipython3",
   "version": "3.9.7"
  },
  "vscode": {
   "interpreter": {
    "hash": "e7370f93d1d0cde622a1f8e1c04877d8463912d04d973331ad4851f04de6915a"
   }
  }
 },
 "nbformat": 4,
 "nbformat_minor": 2
}
